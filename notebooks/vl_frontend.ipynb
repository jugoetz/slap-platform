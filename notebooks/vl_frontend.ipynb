{
 "cells": [
  {
   "cell_type": "markdown",
   "id": "c9690308",
   "metadata": {},
   "source": [
    "# VL frontend\n",
    "\n",
    "Enter the SMILES of a compound in the SLAP virtual library and see the predicted properties + synthesizability."
   ]
  },
  {
   "cell_type": "code",
   "execution_count": null,
   "id": "fffa5b35",
   "metadata": {},
   "outputs": [],
   "source": [
    "# input (change this to the SMILES you are interested in)\n",
    "# do not include stereochemistry descriptors on the central heterocycle\n",
    "\n",
    "query = \"Cc1cnn(C)c1C1COC(C)C(c2ccc3cc(F)c(F)cc3n2)N1\"\n"
   ]
  },
  {
   "cell_type": "code",
   "execution_count": null,
   "id": "7026e5a9",
   "metadata": {
    "ExecuteTime": {
     "end_time": "2023-04-13T15:01:20.054991Z",
     "start_time": "2023-04-13T15:01:20.049567Z"
    }
   },
   "outputs": [],
   "source": [
    "import pathlib\n",
    "import sys\n",
    "sys.path.append(str(pathlib.Path().resolve().parent))\n",
    "\n",
    "import IPython.display\n",
    "import pandas as pd\n",
    "from rdkit import Chem\n",
    "from rdkit.Chem import Draw, rdChemReactions\n",
    "\n",
    "from src.util import remove_mapno_from_reaction, canonicalize_smiles"
   ]
  },
  {
   "cell_type": "code",
   "execution_count": null,
   "id": "3febd840",
   "metadata": {},
   "outputs": [],
   "source": [
    "# import all smiles in the VL\n",
    "vl_dir = pathlib.Path().resolve().parent / \"data\" / \"Data S5\"\n",
    "dfs = []\n",
    "for i in range(1749):\n",
    "    dfs.append(pd.read_csv(vl_dir / f\"VL_chunk_{i:04}_smiles.csv.bz2\"))\n",
    "df_allsmiles = pd.concat(dfs)"
   ]
  },
  {
   "cell_type": "code",
   "execution_count": null,
   "id": "9fc8afaf",
   "metadata": {},
   "outputs": [],
   "source": [
    "# check if the queried smiles is in the VL\n",
    "canonical_query = canonicalize_smiles(query)\n",
    "try:\n",
    "    mol_number = int(df_allsmiles.loc[df_allsmiles[\"smiles\"] == canonical_query, \"mol_number\"])\n",
    "except TypeError:\n",
    "    print(\"The input SMILES was not found in the virtual library\")"
   ]
  },
  {
   "cell_type": "code",
   "execution_count": null,
   "id": "fa01b3f0",
   "metadata": {},
   "outputs": [],
   "source": [
    "# determine which chunk the data we are looking for is in\n",
    "chunk = mol_number // 10000"
   ]
  },
  {
   "cell_type": "code",
   "execution_count": null,
   "id": "4370c39b",
   "metadata": {},
   "outputs": [],
   "source": [
    "# read only the file for the relevant chunk\n",
    "df_props = pd.read_csv(vl_dir / f\"VL_chunk_{chunk:04}.csv.bz2\")"
   ]
  },
  {
   "cell_type": "code",
   "execution_count": null,
   "id": "f842d7f6",
   "metadata": {},
   "outputs": [],
   "source": [
    "# extract the queried compound\n",
    "df_compound = df_props.loc[df_props[\"mol_number\"] == mol_number]"
   ]
  },
  {
   "cell_type": "code",
   "execution_count": null,
   "id": "ed3400ba",
   "metadata": {},
   "outputs": [],
   "source": [
    "# draw the structure for control\n",
    "mol = Chem.MolFromSmiles(df_compound.at[0,\"smiles\"])\n",
    "Draw.MolToImage(mol)"
   ]
  },
  {
   "cell_type": "code",
   "execution_count": null,
   "id": "baaf57ad",
   "metadata": {},
   "outputs": [],
   "source": [
    "# Print the predicted properties\n",
    "print(f\"Predicted properties for {query}:\")\n",
    "print(f\"Predicted logD at pH 7.4: {df_compound.at[0,'predicted_logD_pH7.4']:.1f}\")\n",
    "print(f\"Predicted aq solubility at pH 6.8: {10 ** df_compound.at[0,'predicted_logSolubility_pH6.8_(mM)']:.3f} mM\")\n",
    "print(f\"Predicted pKa: {df_compound.at[0,'center1_pKa']:.1f}\")"
   ]
  },
  {
   "cell_type": "code",
   "execution_count": null,
   "id": "25e8ea59",
   "metadata": {},
   "outputs": [],
   "source": [
    "# Show full pKa information (there may be multiple ionizable centers)\n",
    "print(df_compound[[s for s in df_compound.columns if s.startswith(\"center\")]].dropna(axis=1).iloc[0])"
   ]
  },
  {
   "cell_type": "code",
   "execution_count": null,
   "id": "7ea219d3",
   "metadata": {},
   "outputs": [],
   "source": [
    "outcomes = {0: \"failure\", 1: \"success\"}\n",
    "confidences = {0: \"known reaction\", 1: \"very high\", 2: \"high\", 3: \"moderate\", 4: \"low\"}\n",
    "\n",
    "print(\"Reactions leading to this compound:\\n\")\n",
    "# todo draw the reaction\n",
    "for i, rxn_smiles in enumerate([df_compound.at[0,'rxn1_smiles'], df_compound.at[0,'rxn2_smiles']]):\n",
    "    if isinstance(rxn_smiles, str):\n",
    "        reaction_outcome = int(df_compound.at[0, f'rxn{i+1}_predictions'])\n",
    "        prediction_confidence = int(df_compound.at[0, f'rxn{i+1}_confidence'])\n",
    "        print(rxn_smiles)\n",
    "        rxn = rdChemReactions.ReactionFromSmarts(rxn_smiles, useSmiles=True)\n",
    "        remove_mapno_from_reaction(rxn)\n",
    "        d2d = Draw.MolDraw2DCairo(800,300)\n",
    "        d2d.DrawReaction(rxn)\n",
    "        d2d.FinishDrawing()\n",
    "        p = d2d.GetDrawingText()\n",
    "        i = IPython.display.Image(p)\n",
    "        display(i)\n",
    "        print(f\"Predicted outcome: {reaction_outcome} ({outcomes[reaction_outcome]})\")\n",
    "        print(f\"Prediction confidence: {prediction_confidence} ({confidences[prediction_confidence]})\")"
   ]
  },
  {
   "cell_type": "code",
   "execution_count": null,
   "id": "a414e26f",
   "metadata": {},
   "outputs": [],
   "source": []
  }
 ],
 "metadata": {
  "kernelspec": {
   "display_name": "Python 3 (ipykernel)",
   "language": "python",
   "name": "python3"
  },
  "language_info": {
   "codemirror_mode": {
    "name": "ipython",
    "version": 3
   },
   "file_extension": ".py",
   "mimetype": "text/x-python",
   "name": "python",
   "nbconvert_exporter": "python",
   "pygments_lexer": "ipython3",
   "version": "3.9.16"
  }
 },
 "nbformat": 4,
 "nbformat_minor": 5
}
