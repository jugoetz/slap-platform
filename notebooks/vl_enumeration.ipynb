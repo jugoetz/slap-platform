{
 "cells": [
  {
   "cell_type": "markdown",
   "metadata": {},
   "source": [
    "## Enumerate SLAP VL\n",
    "\n",
    "This was used to enumerate the SLAP virtual library. Note that the reactionSMARTS templates are underspecified, leading to some erroneous products if there are additional carbonyls (e.g. esters, amides). These where later filtered out by removing all products that still contained an aldehyde or ketone, but in the interest of reproducibility, we give the original, erroneous version of the reactionSMARTS.\n",
    "\n",
    "Run this notebook only on systems with lots of RAM. We used a 96GB RAM workstation, but more would be better."
   ]
  },
  {
   "cell_type": "code",
   "execution_count": null,
   "metadata": {
    "ExecuteTime": {
     "start_time": "2023-04-11T17:58:28.996477Z",
     "end_time": "2023-04-11T17:58:29.209727Z"
    }
   },
   "outputs": [],
   "source": [
    "import os\n",
    "from joblib import Parallel, delayed\n",
    "\n",
    "from rdkit import Chem\n",
    "from rdkit.Chem import AllChem\n",
    "from rdkit.Chem import Draw\n",
    "from rdkit.Chem.SimpleEnum.Enumerator import EnumerateReaction\n",
    "from rdkit.Chem.rdchem import KekulizeException"
   ]
  },
  {
   "cell_type": "markdown",
   "metadata": {},
   "source": [
    "### Reactions\n",
    "Define and initialize the reactions that form our VL"
   ]
  },
  {
   "cell_type": "code",
   "execution_count": null,
   "metadata": {
    "ExecuteTime": {
     "start_time": "2023-04-11T17:58:29.662283Z",
     "end_time": "2023-04-11T17:58:29.665895Z"
    }
   },
   "outputs": [],
   "source": [
    "rxn_morpholine = AllChem.ReactionFromSmarts('[#6:3]=O.[#6:4]-[#6]=O>>[#6:4]-[#6]-1-[#6]-[#8]-[#6]-[#6:3]-[#7]-1')\n",
    "rxn_only_aldehyde = AllChem.ReactionFromSmarts('[#6:1]-[#6]=O.[#6:2]-[#6]=O>>[#6:1]-[#6]-1-[#6]-[#8]-[#6]-[#6](-[#6:2])-[#7]-1.[#6]-[#6]-[#8]-[#6](=O)-[#7]-1-[#6]-[#6](-[#6:1])-[#7]-[#6](-[#6:2])-[#6]-1.[#6:1]-[#6]-1-[#6]-[#8]-[#6](-[#6])-[#6](-[#6:2])-[#7]-1.[#6:1]-[#6]-1-[#6]-[#8][C@]([#6])([#6])[#6](-[#6:2])-[#7]-1')"
   ]
  },
  {
   "cell_type": "code",
   "execution_count": null,
   "metadata": {
    "ExecuteTime": {
     "start_time": "2023-04-11T17:58:30.735236Z",
     "end_time": "2023-04-11T17:58:30.739807Z"
    }
   },
   "outputs": [],
   "source": [
    "rxn_morpholine.Initialize()\n",
    "AllChem.SanitizeRxn(rxn_morpholine)\n",
    "rxn_only_aldehyde.Initialize()\n",
    "AllChem.SanitizeRxn(rxn_only_aldehyde)"
   ]
  },
  {
   "cell_type": "code",
   "execution_count": null,
   "metadata": {
    "ExecuteTime": {
     "start_time": "2023-04-11T17:58:47.157065Z",
     "end_time": "2023-04-11T17:58:47.160414Z"
    }
   },
   "outputs": [],
   "source": [
    "# show the morpholine reaction\n",
    "rxn_morpholine"
   ]
  },
  {
   "cell_type": "code",
   "execution_count": null,
   "metadata": {
    "ExecuteTime": {
     "start_time": "2023-04-11T17:58:52.084487Z",
     "end_time": "2023-04-11T17:58:52.088911Z"
    }
   },
   "outputs": [],
   "source": [
    "# show the reaction for two aldehyde reactants\n",
    "rxn_only_aldehyde"
   ]
  },
  {
   "cell_type": "markdown",
   "metadata": {},
   "source": [
    "### Building Blocks\n",
    "Import the building blocks for the VL"
   ]
  },
  {
   "cell_type": "code",
   "execution_count": null,
   "metadata": {
    "ExecuteTime": {
     "start_time": "2023-04-11T18:00:12.686898Z",
     "end_time": "2023-04-11T18:00:12.739516Z"
    }
   },
   "outputs": [],
   "source": [
    "# import aldehydes\n",
    "supplier = Chem.SDMolSupplier(os.path.abspath('../data/filtered_aldehydes.sdf'))  # this file can be obtained by running `vl_building_block_filtering.ipynb`\n",
    "aldehydes = [i for i in supplier]\n",
    "len(aldehydes)"
   ]
  },
  {
   "cell_type": "code",
   "execution_count": null,
   "metadata": {
    "ExecuteTime": {
     "start_time": "2023-04-11T18:00:13.239724Z",
     "end_time": "2023-04-11T18:00:13.309437Z"
    }
   },
   "outputs": [],
   "source": [
    "# import ketones\n",
    "supplier = Chem.SDMolSupplier(os.path.abspath('../data/filtered_ketones.sdf'))    # this file can be obtained by running `vl_building_block_filtering.ipynb`\n",
    "ketones = [i for i in supplier]\n",
    "len(ketones)"
   ]
  },
  {
   "cell_type": "code",
   "execution_count": null,
   "metadata": {
    "ExecuteTime": {
     "start_time": "2023-04-11T18:00:16.416811Z",
     "end_time": "2023-04-11T18:00:16.421725Z"
    }
   },
   "outputs": [],
   "source": [
    "# show a few building blocks\n",
    "Draw.MolsToGridImage(aldehydes[:5] + ketones[:4])"
   ]
  },
  {
   "cell_type": "markdown",
   "metadata": {},
   "source": [
    "### Parallelized Enumeration\n",
    "Setup VL enumeration in parallelized way"
   ]
  },
  {
   "cell_type": "code",
   "execution_count": null,
   "metadata": {
    "ExecuteTime": {
     "start_time": "2023-04-11T18:00:23.358566Z",
     "end_time": "2023-04-11T18:00:23.370646Z"
    }
   },
   "outputs": [],
   "source": [
    "\"\"\"This one is for only aldehyde reactants\"\"\"\n",
    "errors = []\n",
    "\n",
    "def get_products(sm1, sm2):\n",
    "    global errors\n",
    "    generator = EnumerateReaction(rxn_only_aldehyde, (sm1, sm2))\n",
    "    def sanitize_inner(generator):\n",
    "        for products in generator:\n",
    "            for p in products:\n",
    "                try:\n",
    "                    Chem.SanitizeMol(p)\n",
    "                    s = Chem.MolToSmiles(p)  # yield SMILES instead of MOL for memory reasons\n",
    "                    yield s\n",
    "                except KekulizeException:\n",
    "                    errors.append(p)\n",
    "                    yield None\n",
    "    return list(sanitize_inner(generator))"
   ]
  },
  {
   "cell_type": "code",
   "execution_count": null,
   "metadata": {
    "ExecuteTime": {
     "start_time": "2023-04-11T18:00:24.806823Z",
     "end_time": "2023-04-11T18:00:24.816855Z"
    }
   },
   "outputs": [],
   "source": [
    "\"\"\"This one is for aldehyde + ketone reactants\"\"\"\n",
    "errors = []\n",
    "\n",
    "def get_products_ketone(sm1, sm2):\n",
    "    global errors\n",
    "    generator = EnumerateReaction(rxn_morpholine, (sm1, sm2))\n",
    "    def sanitize_inner(generator):\n",
    "        for products in generator:\n",
    "            for p in products:\n",
    "                try:\n",
    "                    Chem.SanitizeMol(p)\n",
    "                    s = Chem.MolToSmiles(p)  # yield SMILES instead of MOL for memory reasons\n",
    "                    yield s\n",
    "                except KekulizeException:\n",
    "                    errors.append(p)\n",
    "                    yield None\n",
    "    return list(sanitize_inner(generator))"
   ]
  },
  {
   "cell_type": "code",
   "execution_count": null,
   "metadata": {
    "ExecuteTime": {
     "start_time": "2023-04-11T18:00:27.263918Z",
     "end_time": "2023-04-11T18:00:27.276853Z"
    }
   },
   "outputs": [],
   "source": [
    "# prepare aldehyde list for parallel enumeration\n",
    "aldehyde_slices = [aldehydes[i::8] for i in range(8)]  # we split the total aldehydes in 8 slices"
   ]
  },
  {
   "cell_type": "code",
   "execution_count": null,
   "metadata": {
    "ExecuteTime": {
     "start_time": "2023-04-11T18:00:29.508384Z",
     "end_time": "2023-04-11T18:00:29.516229Z"
    }
   },
   "outputs": [],
   "source": [
    "# prepare ketone list for parallel enumeration\n",
    "ket_and_ald = aldehydes + ketones\n",
    "ket_and_ald_slices = [ket_and_ald[i::8] for i in range(8)]  # we split the total aldehydes + ketones in 8 slices"
   ]
  },
  {
   "cell_type": "markdown",
   "metadata": {},
   "source": [
    "### Generate Virtual Library\n",
    "Enumerate ketone and aldehyde products sequentially.\n",
    "Note that you will need lots of RAM to run the enumeration."
   ]
  },
  {
   "cell_type": "code",
   "execution_count": null,
   "metadata": {},
   "outputs": [],
   "source": [
    "# ketones\n",
    "library_ket = Parallel(n_jobs=16)(delayed(get_products_ketone)(i, j) for i in aldehyde_slices for j in ket_and_ald_slices)\n"
   ]
  },
  {
   "cell_type": "code",
   "execution_count": null,
   "metadata": {},
   "outputs": [],
   "source": [
    "# aldehydes\n",
    "library_ald = Parallel(n_jobs=16)(delayed(get_products)(i, j) for i in aldehyde_slices for j in aldehyde_slices)\n"
   ]
  },
  {
   "cell_type": "code",
   "execution_count": null,
   "metadata": {},
   "outputs": [],
   "source": [
    "# expected library size\n",
    "print(f'Expected ketone products: {len(ket_and_ald) * len(aldehydes)}')\n",
    "print(f'Expected aldehyde products: {len(aldehydes) ** 2 * 4}')"
   ]
  },
  {
   "cell_type": "code",
   "execution_count": null,
   "metadata": {},
   "outputs": [],
   "source": [
    "library_ket_flattened = [j\n",
    "                for i in library_ket\n",
    "                for j in i\n",
    "                if j is not None\n",
    "              ]\n",
    "\n",
    "library_ald_flattened = [j\n",
    "                for i in library_ald\n",
    "                for j in i\n",
    "                if j is not None\n",
    "              ]\n",
    "\n",
    "library_set = set(library_ald_flattened + library_ket_flattened)\n",
    "\n",
    "print(f'Size of the enumerated aldehyde library: {len(library_ald_flattened)}')\n",
    "print(f'Size of the enumerated ketone library: {len(library_ket_flattened)}')\n",
    "print(f'Total size of the enumerated library: {len(library_ald_flattened + library_ket_flattened)}')\n",
    "print(f'Size of the library after duplicate removal: {len(library_set)}')"
   ]
  },
  {
   "cell_type": "markdown",
   "metadata": {},
   "source": [
    "### Save VL to file\n",
    "We save the VL (canonical) SMILES strings to a text file. At this point, the VL is filtered from duplicates, but not processed other than that."
   ]
  },
  {
   "cell_type": "code",
   "execution_count": null,
   "metadata": {},
   "outputs": [],
   "source": [
    "with open(os.path.abspath('../data/VL_smiles.txt'), 'w') as file:\n",
    "    for sm in library_set:\n",
    "        file.write(f'{sm}\\n')"
   ]
  }
 ],
 "metadata": {
  "kernelspec": {
   "display_name": "Python 3",
   "language": "python",
   "name": "python3"
  },
  "language_info": {
   "codemirror_mode": {
    "name": "ipython",
    "version": 3
   },
   "file_extension": ".py",
   "mimetype": "text/x-python",
   "name": "python",
   "nbconvert_exporter": "python",
   "pygments_lexer": "ipython3",
   "version": "3.8.8"
  }
 },
 "nbformat": 4,
 "nbformat_minor": 1
}
