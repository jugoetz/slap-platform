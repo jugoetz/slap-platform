{
 "cells": [
  {
   "cell_type": "markdown",
   "metadata": {},
   "source": [
    "# Filter building blocks\n",
    "\n",
    "Before enumerating the VL, a series of filters is applied to the building blocks to remove building blocks with undesired properties or high chance of side reactions."
   ]
  },
  {
   "cell_type": "markdown",
   "metadata": {},
   "source": [
    "## Filter aldehyde building blocks\n",
    "\n"
   ]
  },
  {
   "cell_type": "code",
   "execution_count": null,
   "metadata": {
    "ExecuteTime": {
     "start_time": "2023-04-11T17:55:59.024491Z",
     "end_time": "2023-04-11T17:55:59.239464Z"
    }
   },
   "outputs": [],
   "source": [
    "import os\n",
    "\n",
    "from rdkit import Chem\n",
    "from rdkit.Chem import Draw\n",
    "from rdkit.Chem.Descriptors import MolWt"
   ]
  },
  {
   "cell_type": "code",
   "execution_count": null,
   "metadata": {
    "ExecuteTime": {
     "start_time": "2023-04-11T17:55:59.306412Z",
     "end_time": "2023-04-11T17:55:59.589903Z"
    }
   },
   "outputs": [],
   "source": [
    "supplier = Chem.SDMolSupplier(os.path.abspath('../data/Enamine_Aldehydes_6455cmpds_20210405.sdf'))  # this file was obtained from Enamine\n",
    "aldehydes = [i for i in supplier]\n",
    "len(aldehydes)"
   ]
  },
  {
   "cell_type": "code",
   "execution_count": null,
   "metadata": {
    "ExecuteTime": {
     "start_time": "2023-04-11T17:56:04.070407Z",
     "end_time": "2023-04-11T17:56:04.072118Z"
    }
   },
   "outputs": [],
   "source": [
    "\"\"\"Now we filter the building blocks. First by mass. We set a weight limit of 200\"\"\"\n",
    "aldehydes = [m for m in aldehydes if MolWt(m) <= 200]\n",
    "len(aldehydes)\n"
   ]
  },
  {
   "cell_type": "code",
   "execution_count": null,
   "metadata": {
    "ExecuteTime": {
     "start_time": "2023-04-11T17:56:05.203501Z",
     "end_time": "2023-04-11T17:56:05.218731Z"
    }
   },
   "outputs": [],
   "source": [
    "\"\"\"Filter carbonic acid / carboxylate anion\"\"\"\n",
    "sub_acid = Chem.MolFromSmarts('[CX3](=O)[OX1H0-,OX2H1] ')\n",
    "aldehydes = [m for m in aldehydes if not m.HasSubstructMatch(sub_acid)]\n",
    "len(aldehydes)"
   ]
  },
  {
   "cell_type": "code",
   "execution_count": null,
   "metadata": {
    "ExecuteTime": {
     "start_time": "2023-04-11T17:56:07.027917Z",
     "end_time": "2023-04-11T17:56:07.043767Z"
    }
   },
   "outputs": [],
   "source": [
    "\"\"\"Filter ketone\"\"\"\n",
    "sub_ketone = Chem.MolFromSmarts('[#6][CX3](=O)[#6]')\n",
    "mol = [m for m in aldehydes if len(m.GetSubstructMatches(sub_ketone)) >= 1]\n",
    "len(mol)  # THERE ARE NO KETONES (in aldehyde building blocks) so we don't apply a filter"
   ]
  },
  {
   "cell_type": "code",
   "execution_count": null,
   "metadata": {
    "ExecuteTime": {
     "start_time": "2023-04-11T17:56:09.254721Z",
     "end_time": "2023-04-11T17:56:09.274266Z"
    }
   },
   "outputs": [],
   "source": [
    "\"\"\"Filter if a second aldehyde is present\"\"\"\n",
    "sub_aldehyde = Chem.MolFromSmarts('[CX3H1](=O)[#6]')\n",
    "mol = [m for m in aldehydes if len(m.GetSubstructMatches(sub_aldehyde)) > 1]\n",
    "len(mol) # THERE ARE NO DI-ALDEHYDES so we don't apply a filter\n"
   ]
  },
  {
   "cell_type": "code",
   "execution_count": null,
   "metadata": {
    "ExecuteTime": {
     "start_time": "2023-04-11T17:56:11.304543Z",
     "end_time": "2023-04-11T17:56:11.321039Z"
    }
   },
   "outputs": [],
   "source": [
    "\"\"\"Filter Boc\"\"\"\n",
    "sub_boc = Chem.MolFromSmarts('[NX3][CX3](=[OX1])[OX2H0]C([#6])([#6])[#6]')\n",
    "aldehydes = [m for m in aldehydes if not m.HasSubstructMatch(sub_boc)]\n",
    "len(aldehydes)"
   ]
  },
  {
   "cell_type": "code",
   "execution_count": null,
   "metadata": {
    "ExecuteTime": {
     "start_time": "2023-04-11T17:56:12.881626Z",
     "end_time": "2023-04-11T17:56:12.913546Z"
    }
   },
   "outputs": [],
   "source": [
    "\"\"\"Filter enolizable aldehydes. E.g. alpha- phenyl, nitrile, nitro\"\"\"\n",
    "sub_enol_phenyl = Chem.MolFromSmarts('O=[#6]-[CX4H,CX4H2]-[cX3]1[cX3H][cX3H][cX3H][cX3H][cX3H]1')\n",
    "sub_enol_nitrile = Chem.MolFromSmarts('O=[#6]-[CX4H,CX4H2]-[CX2]#[NX1]')\n",
    "sub_enol_nitro = Chem.MolFromSmarts('O=[#6]-[CX4H,CX4H2]-[$([NX3](=O)=O),$([NX3+](=O)[O-])]')\n",
    "aldehydes = [m for m in aldehydes if not (m.HasSubstructMatch(sub_enol_phenyl) or m.HasSubstructMatch(sub_enol_nitrile) or m.HasSubstructMatch(sub_enol_nitro))]\n",
    "len(aldehydes)"
   ]
  },
  {
   "cell_type": "code",
   "execution_count": null,
   "metadata": {
    "ExecuteTime": {
     "start_time": "2023-04-11T17:56:14.417783Z",
     "end_time": "2023-04-11T17:56:14.434875Z"
    }
   },
   "outputs": [],
   "source": [
    "\"\"\"Filter branched aliphatic (alpha position). We remove tertiary and quarternary non-cyclic alpha carbons and quarternary cyclic alpha carbons \"\"\"\n",
    "sub_branched = Chem.MolFromSmarts('O=[#6]-[CR0D3,CR0D4,CD4]')\n",
    "aldehydes = [m for m in aldehydes if not m.HasSubstructMatch(sub_branched)]\n",
    "len(aldehydes)"
   ]
  },
  {
   "cell_type": "code",
   "execution_count": null,
   "metadata": {
    "ExecuteTime": {
     "start_time": "2023-04-11T17:56:15.840914Z",
     "end_time": "2023-04-11T17:56:15.861138Z"
    }
   },
   "outputs": [],
   "source": [
    "\"\"\"Filter some heteroaromatics (randomly + deterministically). We discard 2 thirds of them, because they tend to not synthesize\"\"\"\n",
    "sub_heteroaromatic =  Chem.MolFromSmarts('[oR,sR,nR]')\n",
    "aldehydes = [m for i, m in enumerate(aldehydes) if not m.HasSubstructMatch(sub_heteroaromatic) or i % 3 == 0] # we drop roughly 2 in 3 heteroaromatics\n",
    "len(aldehydes)"
   ]
  },
  {
   "cell_type": "code",
   "execution_count": null,
   "metadata": {
    "ExecuteTime": {
     "start_time": "2023-04-11T17:56:17.496555Z",
     "end_time": "2023-04-11T17:56:17.526689Z"
    }
   },
   "outputs": [],
   "source": [
    "\"\"\"Filter azides\"\"\"\n",
    "sub_azide = Chem.MolFromSmarts('[$(*-[NX2-]-[NX2+]#[NX1]),$(*-[NX2]=[NX2+]=[NX1-])]')\n",
    "aldehydes = [m for m in aldehydes if not m.HasSubstructMatch(sub_azide)]\n",
    "len(aldehydes)"
   ]
  },
  {
   "cell_type": "code",
   "execution_count": null,
   "metadata": {
    "ExecuteTime": {
     "start_time": "2023-04-11T17:56:18.928418Z",
     "end_time": "2023-04-11T17:56:18.943268Z"
    }
   },
   "outputs": [],
   "source": [
    "\"\"\"Filter acetals\"\"\"\n",
    "sub_acetal = Chem.MolFromSmarts('[#6]-[CX3,CX4](-[OX2])-[OX2]')\n",
    "aldehydes = [m for m in aldehydes if not m.HasSubstructMatch(sub_acetal)]\n",
    "len(aldehydes)"
   ]
  },
  {
   "cell_type": "code",
   "execution_count": null,
   "metadata": {
    "ExecuteTime": {
     "start_time": "2023-04-11T17:56:20.797287Z",
     "end_time": "2023-04-11T17:56:20.799384Z"
    }
   },
   "outputs": [],
   "source": [
    "\"\"\"Check duplicates (there should be none if Enamine did their job right)\"\"\"\n",
    "s = len(set([Chem.MolToSmiles(m) for m in aldehydes]))\n",
    "l = len(aldehydes)\n",
    "print(s)\n",
    "print(l)\n",
    "assert s == l  # if s < l, we have duplicates"
   ]
  },
  {
   "cell_type": "code",
   "execution_count": null,
   "metadata": {
    "ExecuteTime": {
     "start_time": "2023-04-11T17:56:25.347719Z",
     "end_time": "2023-04-11T17:56:25.353158Z"
    }
   },
   "outputs": [],
   "source": [
    "# show a few examples that passed filtering\n",
    "Draw.MolsToGridImage(aldehydes[500:550])"
   ]
  },
  {
   "cell_type": "code",
   "execution_count": null,
   "metadata": {
    "ExecuteTime": {
     "start_time": "2023-04-11T17:56:29.573727Z",
     "end_time": "2023-04-11T17:56:29.589788Z"
    }
   },
   "outputs": [],
   "source": [
    "# show the frequency of aldehyde subclasses in the remaining data.\n",
    "classes = [m.GetProp('Subclass') for m in aldehydes]\n",
    "count_het = 0\n",
    "count_arom = 0\n",
    "count_aliph = 0\n",
    "for m in classes:\n",
    "    if 'Hetero_aromatic_aldehydes' in m:\n",
    "        count_het += 1\n",
    "    if 'Aromatic_aldehydes' in m:\n",
    "        count_arom += 1\n",
    "    if 'Aliphatic_Aldehydes' in m:\n",
    "        count_aliph += 1\n",
    "print(count_het)\n",
    "print(count_arom)\n",
    "print(count_aliph)"
   ]
  },
  {
   "cell_type": "code",
   "execution_count": null,
   "metadata": {
    "ExecuteTime": {
     "start_time": "2023-04-11T17:56:51.953517Z",
     "end_time": "2023-04-11T17:56:52.016337Z"
    }
   },
   "outputs": [],
   "source": [
    "\"\"\"Write to sdf file\"\"\"\n",
    "with open(os.path.abspath('../data/filtered_aldehydes.sdf'), 'wt') as file:\n",
    "    writer = Chem.SDWriter(file)\n",
    "    for m in aldehydes:\n",
    "        writer.write(m)\n",
    "    writer.close()"
   ]
  },
  {
   "cell_type": "markdown",
   "metadata": {},
   "source": [
    "## Filter ketone building blocks\n",
    "\n",
    "The filters are (almost) the same as above, with the only change being that we obviously filter diketones instead of ketones and aldehydes instead of dialdehydes now.\n"
   ]
  },
  {
   "cell_type": "code",
   "execution_count": null,
   "metadata": {
    "ExecuteTime": {
     "start_time": "2023-04-11T17:57:18.287774Z",
     "end_time": "2023-04-11T17:57:18.695680Z"
    }
   },
   "outputs": [],
   "source": [
    "supplier = Chem.SDMolSupplier(os.path.abspath('../data/Enamine_Ketones_8649cmpds_20210405.sdf'))  # this file was obtained from Enamine\n",
    "ketones = [i for i in supplier]\n",
    "len(ketones)"
   ]
  },
  {
   "cell_type": "code",
   "execution_count": null,
   "metadata": {
    "ExecuteTime": {
     "start_time": "2023-04-11T17:57:20.256880Z",
     "end_time": "2023-04-11T17:57:20.260369Z"
    }
   },
   "outputs": [],
   "source": [
    "\"\"\"Now we filter the building blocks. First by mass. We set a weight limit of 200\"\"\"\n",
    "ketones = [m for m in ketones if MolWt(m) <= 200]\n",
    "len(ketones)\n"
   ]
  },
  {
   "cell_type": "code",
   "execution_count": null,
   "metadata": {
    "ExecuteTime": {
     "start_time": "2023-04-11T17:57:21.136363Z",
     "end_time": "2023-04-11T17:57:21.155384Z"
    }
   },
   "outputs": [],
   "source": [
    "\"\"\"Filter carbonic acid / carboxylate anion\"\"\"\n",
    "sub_acid = Chem.MolFromSmarts('[CX3](=O)[OX1H0-,OX2H1] ')\n",
    "ketones = [m for m in ketones if not m.HasSubstructMatch(sub_acid)]\n",
    "len(ketones)"
   ]
  },
  {
   "cell_type": "code",
   "execution_count": null,
   "metadata": {
    "ExecuteTime": {
     "start_time": "2023-04-11T17:57:22.788549Z",
     "end_time": "2023-04-11T17:57:22.816050Z"
    }
   },
   "outputs": [],
   "source": [
    "\"\"\"Filter diketone\"\"\"\n",
    "sub_ketone = Chem.MolFromSmarts('[#6][CX3](=O)[#6]')\n",
    "mol = [m for m in ketones if len(m.GetSubstructMatches(sub_ketone)) > 1]\n",
    "len(mol)  # THERE ARE NO DIKETONES so we don't apply a filter"
   ]
  },
  {
   "cell_type": "code",
   "execution_count": null,
   "metadata": {
    "ExecuteTime": {
     "start_time": "2023-04-11T17:57:23.360648Z",
     "end_time": "2023-04-11T17:57:23.376136Z"
    }
   },
   "outputs": [],
   "source": [
    "\"\"\"Filter aldehyde\"\"\"\n",
    "sub_aldehyde = Chem.MolFromSmarts('[CX3H1](=O)[#6]')\n",
    "mol = [m for m in ketones if len(m.GetSubstructMatches(sub_aldehyde)) >= 1]\n",
    "len(mol) # THERE ARE NO ALDEHYDES (in the ketone set) so we don't apply a filter"
   ]
  },
  {
   "cell_type": "code",
   "execution_count": null,
   "metadata": {
    "ExecuteTime": {
     "start_time": "2023-04-11T17:57:24.760045Z",
     "end_time": "2023-04-11T17:57:24.778172Z"
    }
   },
   "outputs": [],
   "source": [
    "\"\"\"Filter Boc\"\"\"\n",
    "sub_boc = Chem.MolFromSmarts('[NX3][CX3](=[OX1])[OX2H0]C([#6])([#6])[#6]')\n",
    "ketones = [m for m in ketones if not m.HasSubstructMatch(sub_boc)]\n",
    "len(ketones)"
   ]
  },
  {
   "cell_type": "code",
   "execution_count": null,
   "metadata": {
    "ExecuteTime": {
     "start_time": "2023-04-11T17:57:26.217459Z",
     "end_time": "2023-04-11T17:57:26.257267Z"
    }
   },
   "outputs": [],
   "source": [
    "\"\"\"Filter enolizable aldehydes. E.g. alpha- phenyl, nitrile, nitro\"\"\"\n",
    "sub_enol_phenyl = Chem.MolFromSmarts('O=[#6]-[CX4H,CX4H2]-[cX3]1[cX3H][cX3H][cX3H][cX3H][cX3H]1')\n",
    "sub_enol_nitrile = Chem.MolFromSmarts('O=[#6]-[CX4H,CX4H2]-[CX2]#[NX1]')\n",
    "sub_enol_nitro = Chem.MolFromSmarts('O=[#6]-[CX4H,CX4H2]-[$([NX3](=O)=O),$([NX3+](=O)[O-])]')\n",
    "ketones = [m for m in ketones if not (m.HasSubstructMatch(sub_enol_phenyl) or m.HasSubstructMatch(sub_enol_nitrile) or m.HasSubstructMatch(sub_enol_nitro))]\n",
    "len(ketones)"
   ]
  },
  {
   "cell_type": "code",
   "execution_count": null,
   "metadata": {
    "ExecuteTime": {
     "start_time": "2023-04-11T17:57:27.185737Z",
     "end_time": "2023-04-11T17:57:27.205466Z"
    }
   },
   "outputs": [],
   "source": [
    "\"\"\"Filter branched aliphatic (alpha position). We remove tertiary and quarternary non-cyclic alpha carbons and quarternary cyclic alpha carbons \"\"\"\n",
    "sub_branched = Chem.MolFromSmarts('O=[#6]-[CR0D3,CR0D4,CD4]')\n",
    "ketones = [m for m in ketones if not m.HasSubstructMatch(sub_branched)]\n",
    "len(ketones)"
   ]
  },
  {
   "cell_type": "code",
   "execution_count": null,
   "metadata": {
    "ExecuteTime": {
     "start_time": "2023-04-11T17:57:28.476037Z",
     "end_time": "2023-04-11T17:57:28.498158Z"
    }
   },
   "outputs": [],
   "source": [
    "\"\"\"Filter some heteroaromatics (randomly + deterministically). We discard 2 thirds of them, because they tend to not synthesize\"\"\"\n",
    "sub_heteroaromatic =  Chem.MolFromSmarts('[oR,sR,nR]')\n",
    "ketones = [m for i, m in enumerate(ketones) if not m.HasSubstructMatch(sub_heteroaromatic) or i % 3 == 0] # we drop roughly 2 in 3 heteroaromatics\n",
    "len(ketones)"
   ]
  },
  {
   "cell_type": "code",
   "execution_count": null,
   "metadata": {
    "ExecuteTime": {
     "start_time": "2023-04-11T17:57:28.933484Z",
     "end_time": "2023-04-11T17:57:28.952607Z"
    }
   },
   "outputs": [],
   "source": [
    "\"\"\"Filter azides\"\"\"\n",
    "sub_azide = Chem.MolFromSmarts('[$(*-[NX2-]-[NX2+]#[NX1]),$(*-[NX2]=[NX2+]=[NX1-])]')\n",
    "ketones = [m for m in ketones if not m.HasSubstructMatch(sub_azide)]\n",
    "len(ketones)"
   ]
  },
  {
   "cell_type": "code",
   "execution_count": null,
   "metadata": {
    "ExecuteTime": {
     "start_time": "2023-04-11T17:57:30.244023Z",
     "end_time": "2023-04-11T17:57:30.260572Z"
    }
   },
   "outputs": [],
   "source": [
    "\"\"\"Filter acetals\"\"\"\n",
    "sub_acetal = Chem.MolFromSmarts('[#6]-[CX3,CX4](-[OX2])-[OX2]')\n",
    "ketones = [m for m in ketones if not m.HasSubstructMatch(sub_acetal)]\n",
    "len(ketones)"
   ]
  },
  {
   "cell_type": "code",
   "execution_count": null,
   "metadata": {
    "ExecuteTime": {
     "start_time": "2023-04-11T17:57:33.994231Z",
     "end_time": "2023-04-11T17:57:33.996691Z"
    }
   },
   "outputs": [],
   "source": [
    "\"\"\"Check duplicates (there should be none if Enamine did their job right)\"\"\"\n",
    "s = len(set([Chem.MolToSmiles(m) for m in ketones]))\n",
    "l = len(ketones)\n",
    "print(s)\n",
    "print(l)\n",
    "assert s == l  # if s < l, we have duplicates"
   ]
  },
  {
   "cell_type": "code",
   "execution_count": null,
   "metadata": {
    "ExecuteTime": {
     "start_time": "2023-04-11T17:57:36.235104Z",
     "end_time": "2023-04-11T17:57:36.243332Z"
    }
   },
   "outputs": [],
   "source": [
    "# show a few examples that passed filtering\n",
    "Draw.MolsToGridImage(ketones[500:550])"
   ]
  },
  {
   "cell_type": "code",
   "execution_count": null,
   "metadata": {
    "ExecuteTime": {
     "start_time": "2023-04-11T17:57:54.344655Z",
     "end_time": "2023-04-11T17:57:54.435333Z"
    }
   },
   "outputs": [],
   "source": [
    "\"\"\"Write to sdf file\"\"\"\n",
    "with open(os.path.abspath('../data/filtered_ketones.sdf'), 'wt') as file:\n",
    "    writer = Chem.SDWriter(file)\n",
    "    for m in ketones:\n",
    "        writer.write(m)\n",
    "    writer.close()"
   ]
  }
 ],
 "metadata": {
  "kernelspec": {
   "display_name": "Python 3",
   "language": "python",
   "name": "python3"
  },
  "language_info": {
   "codemirror_mode": {
    "name": "ipython",
    "version": 3
   },
   "file_extension": ".py",
   "mimetype": "text/x-python",
   "name": "python",
   "nbconvert_exporter": "python",
   "pygments_lexer": "ipython3",
   "version": "3.8.8"
  }
 },
 "nbformat": 4,
 "nbformat_minor": 1
}
