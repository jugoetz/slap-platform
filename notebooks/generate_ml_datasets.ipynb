{
 "cells": [
  {
   "cell_type": "markdown",
   "id": "6bacb76d",
   "metadata": {},
   "source": [
    "# Generate ML data sets\n",
    "\n",
    "Generate data sets as used for training the ML models\n",
    "\n",
    "    a) Assign labels according to outcome by LCMS or isolation\n",
    "    b) Drop duplicates\n",
    "    c) select features"
   ]
  },
  {
   "cell_type": "code",
   "execution_count": null,
   "id": "6530e9b9",
   "metadata": {
    "ExecuteTime": {
     "start_time": "2023-04-11T17:16:10.982914Z",
     "end_time": "2023-04-11T17:16:11.201841Z"
    }
   },
   "outputs": [],
   "source": [
    "import pandas as pd"
   ]
  },
  {
   "cell_type": "code",
   "execution_count": null,
   "id": "3d742730",
   "metadata": {
    "ExecuteTime": {
     "start_time": "2023-04-11T17:16:11.202865Z",
     "end_time": "2023-04-11T17:16:11.217344Z"
    }
   },
   "outputs": [],
   "source": [
    "df = pd.read_csv(\"../data/featurized_dataS1.csv\")  # run `featurize_slap_reaction.ipynb` first to generate this data from Data S2\n",
    "df.head()"
   ]
  },
  {
   "cell_type": "markdown",
   "id": "596782e0",
   "metadata": {},
   "source": [
    "## Assign labels\n",
    "\n",
    "For LCMS yield,`0` if normalized lcms ratio <= threshold, `1` if > threshold. Threshold is 0.01.\n"
   ]
  },
  {
   "cell_type": "code",
   "execution_count": null,
   "id": "413a7b59",
   "metadata": {
    "ExecuteTime": {
     "start_time": "2023-04-11T17:16:11.218752Z",
     "end_time": "2023-04-11T17:16:11.221518Z"
    }
   },
   "outputs": [],
   "source": [
    "# assessing lcms_label\n",
    "lcms_threshold = 0.01\n",
    "# lcms ratio is min-max-normalized over ALL reactions that we have data for\n",
    "norm_lcms = (df[\"lcms_ratio\"] - df[\"lcms_ratio\"].min()) / (df[\"lcms_ratio\"].max() - df[\"lcms_ratio\"].min())\n",
    "df[\"lcms_label\"] = pd.cut(norm_lcms, bins=(-1e-8, lcms_threshold, 1.0 + 1e-8), labels=(0, 1))"
   ]
  },
  {
   "cell_type": "markdown",
   "id": "0476c426",
   "metadata": {},
   "source": [
    "### Drop duplicates\n",
    "\n",
    "We will drop plates 2 and 4 (duplicates of 1 and 3), because the data is less reliable according to our previous analysis. This leaves about 100 duplicates for LCMS data.\n",
    "\n",
    "For the remaining duplicates, we will merge the records by majority vote. If the vote is even (e.g. reaction worked once and didn't work once), we will consider the reaction successful."
   ]
  },
  {
   "cell_type": "code",
   "execution_count": null,
   "id": "ed3d8f47",
   "metadata": {
    "ExecuteTime": {
     "start_time": "2023-04-11T17:16:11.222755Z",
     "end_time": "2023-04-11T17:16:11.227199Z"
    }
   },
   "outputs": [],
   "source": [
    "# split into lcms and isolated data\n",
    "# remove plates 2 and 4 for lcms\n",
    "df_lcms = df.loc[~df[\"plate_nr\"].isin((2, 4))].copy()"
   ]
  },
  {
   "cell_type": "code",
   "execution_count": null,
   "id": "1cb72d07",
   "metadata": {
    "ExecuteTime": {
     "start_time": "2023-04-11T17:16:11.229322Z",
     "end_time": "2023-04-11T17:16:11.281772Z"
    }
   },
   "outputs": [],
   "source": [
    "# identify duplicates for lcms\n",
    "duplicated_reaction_smiles = df_lcms.loc[df_lcms.duplicated(subset=[\"reactionSMILES\"], keep=False), \"reactionSMILES\"].unique()\n",
    "\n",
    "# set all duplicate records to the same label, based on majority-vote\n",
    "for reac in duplicated_reaction_smiles:\n",
    "    success_rate = df_lcms.loc[df[\"reactionSMILES\"] == reac, \"lcms_label\"].astype(\"float\").mean()\n",
    "    if success_rate > 0.49:\n",
    "        df_lcms.loc[df[\"reactionSMILES\"] == reac, \"lcms_label\"] = 1\n",
    "    else:\n",
    "        df_lcms.loc[df[\"reactionSMILES\"] == reac, \"lcms_label\"] = 0\n",
    "\n",
    "# drop duplicates\n",
    "df_lcms = df_lcms.drop_duplicates(subset=[\"reactionSMILES\"])\n"
   ]
  },
  {
   "cell_type": "markdown",
   "id": "85cc08a8",
   "metadata": {},
   "source": [
    "## Select features\n",
    "\n",
    "We select different sets of features for datasets appropriate to different algorithms."
   ]
  },
  {
   "cell_type": "code",
   "execution_count": null,
   "id": "03bf1a9e",
   "metadata": {
    "ExecuteTime": {
     "start_time": "2023-04-11T17:16:28.924419Z",
     "end_time": "2023-04-11T17:16:28.944167Z"
    }
   },
   "outputs": [],
   "source": [
    "# data set with unbalanced reactionSMILES and LCMS labels (this is the one we use for the ML models)\n",
    "df_lcms[[\"reactionSMILES\", \"lcms_label\"]]\\\n",
    "    .rename(columns={\"reactionSMILES\": \"SMILES\", \"lcms_label\": \"label\"})\\\n",
    "    .to_csv(\"../data/reactionSMILESunbalanced_LCMS.csv\", index=False)  # note that this is the same as Data S3, published as supplementary data\n",
    "\n",
    "# data set with imine intermediate SMILES and LCMS labels\n",
    "df_lcms[[\"imines\", \"lcms_label\"]]\\\n",
    "    .rename(columns={\"imines\": \"SMILES\", \"lcms_label\": \"label\"})\\\n",
    "    .to_csv(\"../data/imines_LCMS.csv\", index=False)  # not used for experiments in the publication\n"
   ]
  }
 ],
 "metadata": {
  "kernelspec": {
   "display_name": "Python 3 (ipykernel)",
   "language": "python",
   "name": "python3"
  },
  "language_info": {
   "codemirror_mode": {
    "name": "ipython",
    "version": 3
   },
   "file_extension": ".py",
   "mimetype": "text/x-python",
   "name": "python",
   "nbconvert_exporter": "python",
   "pygments_lexer": "ipython3",
   "version": "3.9.9"
  }
 },
 "nbformat": 4,
 "nbformat_minor": 5
}
