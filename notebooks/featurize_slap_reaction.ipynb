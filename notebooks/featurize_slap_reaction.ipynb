{
 "cells": [
  {
   "cell_type": "markdown",
   "id": "1f9c3348",
   "metadata": {},
   "source": [
    "## Featurize SLAP reactions\n",
    "\n",
    "Added features:\n",
    "\n",
    "- unbalanced, atom-mapped reactions without stereochemistry on the central ring (reactionSMILES)\n",
    "- imine intermediates (SMILES)\n"
   ]
  },
  {
   "cell_type": "code",
   "execution_count": null,
   "id": "889f84c6",
   "metadata": {
    "ExecuteTime": {
     "start_time": "2023-04-11T16:22:11.489626Z",
     "end_time": "2023-04-11T16:22:11.809924Z"
    }
   },
   "outputs": [],
   "source": [
    "from IPython.display import SVG, display\n",
    "\n",
    "import pandas as pd\n",
    "from rdkit import Chem\n",
    "from rdkit.Chem import AllChem, MolToSmiles, MolFromSmiles, rdChemReactions\n",
    "from rdkit.Chem.Draw import rdMolDraw2D, MolsToGridImage"
   ]
  },
  {
   "cell_type": "code",
   "execution_count": null,
   "id": "c170ed23",
   "metadata": {
    "ExecuteTime": {
     "start_time": "2023-04-11T16:22:11.811424Z",
     "end_time": "2023-04-11T16:22:11.813438Z"
    }
   },
   "outputs": [],
   "source": [
    "# adapted from https://gist.github.com/greglandrum/61c1e751b453c623838759609dc41ef1\n",
    "def draw_mol(mol, font_scale=0.8):\n",
    "    \"\"\"Draw mols in a nice fashion with atom indices and optional stereocenter highlighting\"\"\"\n",
    "    moveAtomIdxToNotes(mol)\n",
    "    d2d = rdMolDraw2D.MolDraw2DSVG(800,300)\n",
    "    d2d.drawOptions().annotationFontScale=font_scale\n",
    "    d2d.DrawMolecule(mol, highlightAtoms=[i[0] for i in Chem.FindMolChiralCenters(mol)])\n",
    "    d2d.FinishDrawing()\n",
    "    return d2d.GetDrawingText()\n",
    "\n",
    "def moveAtomIdxToNotes(m):\n",
    "    \"\"\"Move atom indices to be annotations (so they can be drawn)\"\"\"\n",
    "    for at in m.GetAtoms():\n",
    "        if at.GetIdx():\n",
    "            at.SetProp(\"atomNote\",str(at.GetIdx()))"
   ]
  },
  {
   "cell_type": "code",
   "execution_count": null,
   "id": "c46d458a",
   "metadata": {
    "ExecuteTime": {
     "start_time": "2023-04-11T16:22:11.815285Z",
     "end_time": "2023-04-11T16:22:11.817110Z"
    }
   },
   "outputs": [],
   "source": [
    "# https://gist.github.com/greglandrum/61c1e751b453c623838759609dc41ef1\n",
    "def draw_chemical_reaction(smiles, highlightByReactant=True, font_scale=1.5):\n",
    "    \"\"\"Draw reactions in a nice fashion with atom map numbers and optional reactant highlighting\"\"\"\n",
    "    rxn = rdChemReactions.ReactionFromSmarts(smiles,useSmiles=True)\n",
    "    trxn = rdChemReactions.ChemicalReaction(rxn)\n",
    "    for m in trxn.GetReactants():\n",
    "        moveAtomMapsToNotes(m)\n",
    "    for m in trxn.GetProducts():\n",
    "        moveAtomMapsToNotes(m)\n",
    "    d2d = rdMolDraw2D.MolDraw2DSVG(800,300)\n",
    "    d2d.drawOptions().annotationFontScale=font_scale\n",
    "    d2d.DrawReaction(trxn,highlightByReactant=highlightByReactant)\n",
    "    d2d.FinishDrawing()\n",
    "    return d2d.GetDrawingText()\n",
    "\n",
    "def moveAtomMapsToNotes(m):\n",
    "    \"\"\"Move atom maps to be annotations (so they can be drawn)\"\"\"\n",
    "    for at in m.GetAtoms():\n",
    "        if at.GetAtomMapNum():\n",
    "            at.SetProp(\"atomNote\",str(at.GetAtomMapNum()))"
   ]
  },
  {
   "cell_type": "code",
   "execution_count": null,
   "id": "b635df1c",
   "metadata": {
    "ExecuteTime": {
     "start_time": "2023-04-11T16:22:11.817319Z",
     "end_time": "2023-04-11T16:22:11.836051Z"
    }
   },
   "outputs": [],
   "source": [
    "df = pd.read_csv('../data/Data S2.csv')\n",
    "df"
   ]
  },
  {
   "cell_type": "code",
   "execution_count": null,
   "id": "bc6a1354",
   "metadata": {
    "ExecuteTime": {
     "start_time": "2023-04-11T16:22:11.832896Z",
     "end_time": "2023-04-11T16:22:11.842843Z"
    }
   },
   "outputs": [],
   "source": [
    "# define reactions\n",
    "rxn_slap = AllChem.ReactionFromSmarts(   \n",
    "    '[#6:1]-[#6H:2]=O.[#6:3]-[#6:4](-[#7:5])-[#6:6]-[#8,#7:7]-[#6:8]-[#14]>>[#6:1]-[#6:2]-1-[#6:8]-[#8,#7:7]-[#6:6]-[#6:4](-[#6:3])-[#7:5]-1'\n",
    ")\n",
    "\n",
    "rxn_slap_ketone_reagent = AllChem.ReactionFromSmarts(\n",
    "    '[#6:1]-[#6:2]=O.[#6:3]-[#6:4](-[#7:5])-[#6:6]-[#8:7]-[#6:8]-[#14]>>[#6:1]-[#6:2]-1-[#6:8]-[#8:7]-[#6:6]-[#6:4](-[#6:3])-[#7:5]-1'\n",
    ")"
   ]
  },
  {
   "cell_type": "code",
   "execution_count": null,
   "id": "69761bf2",
   "metadata": {
    "ExecuteTime": {
     "start_time": "2023-04-11T16:22:11.835847Z",
     "end_time": "2023-04-11T16:22:11.843388Z"
    }
   },
   "outputs": [],
   "source": [
    "# preprocess reactions\n",
    "rxn_slap.Initialize()\n",
    "AllChem.SanitizeRxn(rxn_slap)\n",
    "rxn_slap.Initialize()\n",
    "AllChem.SanitizeRxn(rxn_slap_ketone_reagent)"
   ]
  },
  {
   "cell_type": "code",
   "execution_count": null,
   "id": "84a9c58f",
   "metadata": {
    "ExecuteTime": {
     "start_time": "2023-04-11T16:22:11.844564Z",
     "end_time": "2023-04-11T16:22:11.863270Z"
    }
   },
   "outputs": [],
   "source": [
    "# show the reaction\n",
    "rxn_slap"
   ]
  },
  {
   "cell_type": "code",
   "execution_count": null,
   "id": "01341008",
   "metadata": {
    "ExecuteTime": {
     "start_time": "2023-04-11T16:22:11.855587Z",
     "end_time": "2023-04-11T16:22:11.907000Z"
    }
   },
   "outputs": [],
   "source": [
    "# show the reaction\n",
    "rxn_slap_ketone_reagent"
   ]
  },
  {
   "cell_type": "code",
   "execution_count": null,
   "id": "30a64116",
   "metadata": {
    "ExecuteTime": {
     "start_time": "2023-04-11T16:22:11.865539Z",
     "end_time": "2023-04-11T16:22:11.958732Z"
    }
   },
   "outputs": [],
   "source": [
    "df"
   ]
  },
  {
   "cell_type": "code",
   "execution_count": null,
   "id": "e715a7ec",
   "metadata": {
    "scrolled": true,
    "ExecuteTime": {
     "start_time": "2023-04-11T16:22:11.876606Z",
     "end_time": "2023-04-11T16:22:11.958962Z"
    }
   },
   "outputs": [],
   "source": [
    "# test: show the first product\n",
    "prod = rxn_slap.RunReactants((MolFromSmiles(df.at[1, 'Aldehyde 2']), MolFromSmiles(df.at[1, 'SLAP'])))[0][0]\n",
    "prod"
   ]
  },
  {
   "cell_type": "code",
   "execution_count": null,
   "id": "47a6ee35",
   "metadata": {
    "ExecuteTime": {
     "start_time": "2023-04-11T16:22:11.887430Z",
     "end_time": "2023-04-11T16:22:11.959050Z"
    }
   },
   "outputs": [],
   "source": [
    "def create_reaction_instance(rxn, reactants):\n",
    "    \"\"\"\n",
    "    Create an instance of a reaction, given reactants, and map all atoms that end up in the product(s).\n",
    "    This is adapted from Greg's code in http://github.com/rdkit/rdkit/issues/1269#issuecomment-275228746,\n",
    "    but extended to map the side chains as well.\n",
    "    Note that atoms that are not present in the product (unbalanced reaction equation) will not be annotated.\n",
    "    \"\"\"\n",
    "    \n",
    "    # first, we set a tag on reactant atoms. This will be passed on to the product for all non-mapped atoms\n",
    "    for i, sm in enumerate(reactants):\n",
    "        for atom in sm.GetAtoms():\n",
    "            atom.SetProp('tag', \"reactant-%s atom-%s\"%(i, atom.GetIdx()))\n",
    "    \n",
    "    # for the mapped atoms, extract their mapping in the reactants\n",
    "    map_number_to_reactant = {}\n",
    "    for i,reactant in enumerate(rxn.GetReactants()):\n",
    "        for atom in reactant.GetAtoms():\n",
    "            if atom.HasProp('molAtomMapNumber'):\n",
    "                map_number_to_reactant[atom.GetIntProp('molAtomMapNumber')] = (i,atom.GetIdx())\n",
    "    \n",
    "    mapped_reactions = []  # this will hold the reactions \n",
    "    product_set = rxn.RunReactants(reactants)  # run the reaction to get product set\n",
    "    \n",
    "    # now, we look into the products\n",
    "    for products in product_set:\n",
    "        # we need to know the highest mapno, because mapping the \"tagged\" atoms will have to start above that\n",
    "        mapno_max = max(map_number_to_reactant.keys())  # needs to reset on every product_set\n",
    "        reactant_list = [Chem.Mol(x) for x in reactants]\n",
    "        reaction = AllChem.ChemicalReaction()\n",
    "        for p in products:\n",
    "            for atom in p.GetAtoms():\n",
    "                \n",
    "                # for atoms that are mapped in the reaction template\n",
    "                if atom.HasProp('old_mapno'):\n",
    "                    mno = atom.GetIntProp('old_mapno')\n",
    "                    atom.SetIntProp('molAtomMapNumber',mno)\n",
    "                    ridx,aidx = map_number_to_reactant[mno] \n",
    "                    # aidx is the index of the atom in the reactant template. We need\n",
    "                    # to read out the number in the actual reactant:\n",
    "                    raidx = int(atom.GetProp(\"react_atom_idx\"))\n",
    "                    ratom = reactant_list[ridx].GetAtomWithIdx(raidx).SetIntProp('molAtomMapNumber',mno)\n",
    "                    \n",
    "                # for atoms that are unmapped in the reaction template\n",
    "                elif atom.HasProp('tag'):\n",
    "                    tag = atom.GetProp('tag')\n",
    "                    mapno_max += 1\n",
    "                    atom.SetIntProp('molAtomMapNumber', mapno_max)\n",
    "                    # now find the tag in reactant_list\n",
    "                    for sm in reactant_list:\n",
    "                        for ratom in sm.GetAtoms():\n",
    "                            if ratom.HasProp('tag'):\n",
    "                                if ratom.GetProp('tag') == tag:\n",
    "                                    ratom.SetIntProp('molAtomMapNumber', mapno_max)\n",
    "                                    \n",
    "            # now add the product to the reaction\n",
    "            reaction.AddProductTemplate(p)\n",
    "        # add the reactants to reaction    \n",
    "        for reactant in reactant_list:\n",
    "            reaction.AddReactantTemplate(reactant)\n",
    "        # add reaction for all product sets\n",
    "        mapped_reactions.append(reaction)\n",
    "    return mapped_reactions\n",
    "\n",
    "\n",
    "def map_reactions(rxn, reactant_sets):\n",
    "    \"\"\"Take a reaction template and a list of reactant sets and return the mapped reactions.\"\"\"\n",
    "    ketone_slap_substructure = MolFromSmiles('NC(COC[Si](C)(C)C)(C)C')\n",
    "    mapped_reactions = []\n",
    "    for i, reactant_set in enumerate(reactant_sets):\n",
    "        reaction_inst = create_reaction_instance(rxn, reactant_set)\n",
    "        if len(reaction_inst) == 1:  # all good\n",
    "            mapped_reactions.append(reaction_inst[0])\n",
    "        elif len(reaction_inst) == 0:  # failed\n",
    "            mapped_reactions.append(None)\n",
    "            print(f'ERROR: No product for reactant set with index {i}')\n",
    "        elif len(reaction_inst) == 2 and reaction_inst[0].GetReactants()[1].HasSubstructMatch(ketone_slap_substructure): # it's a ketone so it will give two products\n",
    "            # ketone SLAP products may or may not be identical, depending on whether the starting ketone was assymetric\n",
    "            # to compare the smiles, we need to remove molAtomMapNumbers. We need to work on copies to not clear them from the reaction instance\n",
    "            products = [Chem.Mol(reaction_inst[0].GetProducts()[0]), Chem.Mol(reaction_inst[1].GetProducts()[0])]\n",
    "            for p in products:\n",
    "                for atom in p.GetAtoms():\n",
    "                    if atom.HasProp('molAtomMapNumber'):\n",
    "                        atom.ClearProp('molAtomMapNumber')\n",
    "            if MolToSmiles(products[0]) == MolToSmiles(products[1]):  # products are identical and we can discard one reaction\n",
    "                mapped_reactions.append(reaction_inst[0])\n",
    "            else:\n",
    "                print(f'WARNING: Multiple stereoisomeric products for reactant set with index {i}')\n",
    "                mapped_reactions.append(reaction_inst)\n",
    "        else:  # failed\n",
    "            mapped_reactions.append(reaction_inst)\n",
    "            print(f'ERROR: Multiple products for reactant set with index {i}')\n",
    "    return mapped_reactions\n",
    "        "
   ]
  },
  {
   "cell_type": "code",
   "execution_count": null,
   "id": "fa334cf7",
   "metadata": {
    "ExecuteTime": {
     "start_time": "2023-04-11T16:22:11.972226Z",
     "end_time": "2023-04-11T16:22:11.976356Z"
    }
   },
   "outputs": [],
   "source": [
    "# add mols to dataframe\n",
    "df[\"Aldehyde 2 MOL\"] = df[\"Aldehyde 2\"].apply(MolFromSmiles)\n",
    "df[\"SLAP MOL\"] = df[\"SLAP\"].apply(MolFromSmiles)"
   ]
  },
  {
   "cell_type": "code",
   "execution_count": null,
   "id": "d77ef167",
   "metadata": {
    "ExecuteTime": {
     "start_time": "2023-04-11T16:22:11.979648Z",
     "end_time": "2023-04-11T16:22:11.996654Z"
    }
   },
   "outputs": [],
   "source": [
    "df.at[1151, \"SLAP MOL\"]"
   ]
  },
  {
   "cell_type": "code",
   "execution_count": null,
   "id": "737a5856",
   "metadata": {
    "scrolled": true,
    "ExecuteTime": {
     "start_time": "2023-04-11T16:22:12.009615Z",
     "end_time": "2023-04-11T16:22:33.758589Z"
    }
   },
   "outputs": [],
   "source": [
    "reactions = map_reactions(rxn_slap, df[['Aldehyde 2 MOL', 'SLAP MOL']].values.tolist())"
   ]
  },
  {
   "cell_type": "code",
   "execution_count": null,
   "id": "dd8c4212",
   "metadata": {
    "ExecuteTime": {
     "start_time": "2023-04-11T16:22:33.758885Z",
     "end_time": "2023-04-11T16:22:33.762820Z"
    }
   },
   "outputs": [],
   "source": [
    "len(reactions)"
   ]
  },
  {
   "cell_type": "code",
   "execution_count": null,
   "id": "70b8cf18",
   "metadata": {
    "ExecuteTime": {
     "start_time": "2023-04-11T16:22:33.770951Z",
     "end_time": "2023-04-11T16:22:33.774598Z"
    }
   },
   "outputs": [],
   "source": [
    "reactions[192]"
   ]
  },
  {
   "cell_type": "code",
   "execution_count": null,
   "id": "e23fceae",
   "metadata": {
    "ExecuteTime": {
     "start_time": "2023-04-11T16:22:33.774555Z",
     "end_time": "2023-04-11T16:22:33.777173Z"
    }
   },
   "outputs": [],
   "source": [
    "# ensure that there are no lists of reactions (if something had given multiple products)\n",
    "for reac in reactions:\n",
    "    assert type(reac) is rdChemReactions.ChemicalReaction"
   ]
  },
  {
   "cell_type": "code",
   "execution_count": null,
   "id": "306677ee",
   "metadata": {
    "ExecuteTime": {
     "start_time": "2023-04-11T16:22:33.777379Z",
     "end_time": "2023-04-11T16:22:33.887997Z"
    }
   },
   "outputs": [],
   "source": [
    "# generate reactionSMILES\n",
    "reaction_smiles = []\n",
    "for reac in reactions:\n",
    "    reaction_smiles.append(Chem.AllChem.ReactionToSmiles(reac))\n",
    "len(reaction_smiles)"
   ]
  },
  {
   "cell_type": "code",
   "execution_count": null,
   "id": "7ba59751",
   "metadata": {
    "ExecuteTime": {
     "start_time": "2023-04-11T16:22:33.895723Z",
     "end_time": "2023-04-11T16:22:33.905184Z"
    }
   },
   "outputs": [],
   "source": [
    "# check one\n",
    "display(SVG(draw_chemical_reaction(reaction_smiles[250])))"
   ]
  },
  {
   "cell_type": "code",
   "execution_count": null,
   "id": "072c73c8",
   "metadata": {
    "ExecuteTime": {
     "start_time": "2023-04-11T16:22:33.904009Z",
     "end_time": "2023-04-11T16:22:33.906787Z"
    }
   },
   "outputs": [],
   "source": [
    "# now add the reaction smiles to the dataframe\n",
    "df['reactionSMILES'] = reaction_smiles"
   ]
  },
  {
   "cell_type": "markdown",
   "id": "edfee0da",
   "metadata": {},
   "source": [
    "### Intermediate imine\n",
    "We want to have one more option for featurization:\n",
    "It is possible to use the intermediate imine as the only feature because it contains all the information about the reaction."
   ]
  },
  {
   "cell_type": "code",
   "execution_count": null,
   "id": "26da08b6",
   "metadata": {
    "ExecuteTime": {
     "start_time": "2023-04-11T16:22:33.907002Z",
     "end_time": "2023-04-11T16:22:33.916444Z"
    }
   },
   "outputs": [],
   "source": [
    "reaction_to_imine = AllChem.ReactionFromSmarts(\n",
    "        \"[#6:1]-[#6H1:2]=O.[#6:3]-[#6:4](-[#7:5])-[#6:6]-[#8,#7:7]-[#6:8]-[#14:9]>>[#6:1]\\[#6:2]=[#7:5]\\[#6:4](-[#6:3])-[#6:6]-[#8,#7:7]-[#6:8]-[#14:9]\"\n",
    "    )\n"
   ]
  },
  {
   "cell_type": "code",
   "execution_count": null,
   "id": "7580ccdb",
   "metadata": {
    "ExecuteTime": {
     "start_time": "2023-04-11T16:22:33.910654Z",
     "end_time": "2023-04-11T16:22:33.916805Z"
    }
   },
   "outputs": [],
   "source": [
    "# preprocess reaction\n",
    "reaction_to_imine.Initialize()\n",
    "AllChem.SanitizeRxn(reaction_to_imine)"
   ]
  },
  {
   "cell_type": "code",
   "execution_count": null,
   "id": "345331b4",
   "metadata": {
    "scrolled": false,
    "ExecuteTime": {
     "start_time": "2023-04-11T16:22:33.919847Z",
     "end_time": "2023-04-11T16:22:33.926344Z"
    }
   },
   "outputs": [],
   "source": [
    "reaction_to_imine"
   ]
  },
  {
   "cell_type": "code",
   "execution_count": null,
   "id": "001ea09b",
   "metadata": {
    "ExecuteTime": {
     "start_time": "2023-04-11T16:22:33.949135Z",
     "end_time": "2023-04-11T16:22:59.521364Z"
    }
   },
   "outputs": [],
   "source": [
    "# we just use the machinery we have built above and grab the product / remove the atom-labels later\n",
    "reactions = map_reactions(reaction_to_imine, df[['Aldehyde 2 MOL', 'SLAP MOL']].values.tolist())"
   ]
  },
  {
   "cell_type": "code",
   "execution_count": null,
   "id": "9cecb668",
   "metadata": {
    "ExecuteTime": {
     "start_time": "2023-04-11T16:22:59.523314Z",
     "end_time": "2023-04-11T16:22:59.526181Z"
    }
   },
   "outputs": [],
   "source": [
    "# grab product\n",
    "imines = [r.GetProducts()[0] for r in reactions]\n",
    "len(imines)"
   ]
  },
  {
   "cell_type": "code",
   "execution_count": null,
   "id": "7b9b9c43",
   "metadata": {
    "ExecuteTime": {
     "start_time": "2023-04-11T16:22:59.539197Z",
     "end_time": "2023-04-11T16:23:00.127578Z"
    }
   },
   "outputs": [],
   "source": [
    "# remove atom mapping\n",
    "for imine in imines:\n",
    "    AllChem.SanitizeMol(imine)\n",
    "    for atom in imine.GetAtoms():\n",
    "        if atom.HasProp(\"molAtomMapNumber\"):\n",
    "            atom.ClearProp(\"molAtomMapNumber\")"
   ]
  },
  {
   "cell_type": "code",
   "execution_count": null,
   "id": "ed04dcff",
   "metadata": {
    "ExecuteTime": {
     "start_time": "2023-04-11T16:23:00.136733Z",
     "end_time": "2023-04-11T16:23:00.175018Z"
    }
   },
   "outputs": [],
   "source": [
    "MolsToGridImage(imines[0:16])"
   ]
  },
  {
   "cell_type": "code",
   "execution_count": null,
   "id": "646a5e18",
   "metadata": {
    "ExecuteTime": {
     "start_time": "2023-04-11T16:23:00.178855Z",
     "end_time": "2023-04-11T16:23:00.258458Z"
    }
   },
   "outputs": [],
   "source": [
    "# add imines to df\n",
    "df[\"imines\"] = [MolToSmiles(i) for i in imines]"
   ]
  },
  {
   "cell_type": "code",
   "execution_count": null,
   "id": "d386b0ec",
   "metadata": {
    "ExecuteTime": {
     "start_time": "2023-04-11T16:23:00.255330Z",
     "end_time": "2023-04-11T16:23:00.270028Z"
    }
   },
   "outputs": [],
   "source": [
    "# remove mols before saving\n",
    "df = df.drop(columns=[\"Aldehyde 2 MOL\", \"SLAP MOL\"])\n",
    "# save to file\n",
    "df.to_csv('../data/featurized_dataS2.csv', index=False)"
   ]
  },
  {
   "cell_type": "code",
   "execution_count": null,
   "id": "0475b673",
   "metadata": {
    "ExecuteTime": {
     "start_time": "2023-04-11T16:23:00.270268Z",
     "end_time": "2023-04-11T16:23:00.271575Z"
    }
   },
   "outputs": [],
   "source": []
  }
 ],
 "metadata": {
  "kernelspec": {
   "display_name": "Python 3 (ipykernel)",
   "language": "python",
   "name": "python3"
  },
  "language_info": {
   "codemirror_mode": {
    "name": "ipython",
    "version": 3
   },
   "file_extension": ".py",
   "mimetype": "text/x-python",
   "name": "python",
   "nbconvert_exporter": "python",
   "pygments_lexer": "ipython3",
   "version": "3.9.9"
  }
 },
 "nbformat": 4,
 "nbformat_minor": 5
}
